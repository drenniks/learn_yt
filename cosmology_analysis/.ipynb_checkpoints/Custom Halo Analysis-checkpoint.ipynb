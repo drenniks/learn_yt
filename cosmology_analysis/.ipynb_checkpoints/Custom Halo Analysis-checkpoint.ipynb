{
 "cells": [
  {
   "cell_type": "code",
   "execution_count": null,
   "metadata": {},
   "outputs": [],
   "source": [
    "import yt\n",
    "from yt.analysis_modules.halo_analysis.api import \\\n",
    "    HaloCatalog, add_quantity"
   ]
  },
  {
   "cell_type": "code",
   "execution_count": null,
   "metadata": {},
   "outputs": [],
   "source": [
    "data_ds = yt.load('enzo_tiny_cosmology/DD0046/DD0046')\n",
    "halos_ds = yt.load(\"halo_catalogs/catalog/catalog.0.h5\")"
   ]
  },
  {
   "cell_type": "code",
   "execution_count": null,
   "metadata": {},
   "outputs": [],
   "source": [
    "@yt.particle_filter(\"star\", requires=[\"creation_time\"])\n",
    "def _star_filter(pfilter, data):\n",
    "    return data[\"creation_time\"] > 0.0"
   ]
  },
  {
   "cell_type": "code",
   "execution_count": null,
   "metadata": {},
   "outputs": [],
   "source": [
    "data_ds.add_particle_filter(\"star\")"
   ]
  },
  {
   "cell_type": "code",
   "execution_count": null,
   "metadata": {},
   "outputs": [],
   "source": [
    "def calc_stellar_mass(halo):\n",
    "    sphere = halo.data_object\n",
    "    star_mass = sphere[\"star\", \"particle_mass\"].sum()\n",
    "    return star_mass\n",
    "add_quantity(\"stellar_mass\", calc_stellar_mass)"
   ]
  },
  {
   "cell_type": "code",
   "execution_count": null,
   "metadata": {},
   "outputs": [],
   "source": [
    "hc = HaloCatalog(data_ds=data_ds, halos_ds=halos_ds,\n",
    "                 output_dir=\"new_halo_catalog/DD0046\")"
   ]
  },
  {
   "cell_type": "code",
   "execution_count": null,
   "metadata": {},
   "outputs": [],
   "source": [
    "hc.add_callback(\"sphere\")\n",
    "hc.add_quantity(\"stellar_mass\")"
   ]
  },
  {
   "cell_type": "code",
   "execution_count": null,
   "metadata": {},
   "outputs": [],
   "source": [
    "hc.create()"
   ]
  },
  {
   "cell_type": "code",
   "execution_count": null,
   "metadata": {},
   "outputs": [],
   "source": [
    "new_ds = yt.load(\"new_halo_catalog/DD0046/DD0046.0.h5\")"
   ]
  },
  {
   "cell_type": "code",
   "execution_count": null,
   "metadata": {},
   "outputs": [],
   "source": [
    "new_ds.r[\"stellar_mass\"].to(\"Msun\")"
   ]
  },
  {
   "cell_type": "code",
   "execution_count": null,
   "metadata": {},
   "outputs": [],
   "source": []
  }
 ],
 "metadata": {
  "kernelspec": {
   "display_name": "Python 3",
   "language": "python",
   "name": "python3"
  },
  "language_info": {
   "codemirror_mode": {
    "name": "ipython",
    "version": 3
   },
   "file_extension": ".py",
   "mimetype": "text/x-python",
   "name": "python",
   "nbconvert_exporter": "python",
   "pygments_lexer": "ipython3",
   "version": "3.7.3"
  }
 },
 "nbformat": 4,
 "nbformat_minor": 2
}
