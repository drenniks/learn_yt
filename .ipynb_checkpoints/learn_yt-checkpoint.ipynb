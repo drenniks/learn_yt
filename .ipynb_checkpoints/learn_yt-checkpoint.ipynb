{
 "cells": [
  {
   "cell_type": "markdown",
   "metadata": {},
   "source": [
    "# nbviewer:  bit.ly/2wRsEwU"
   ]
  },
  {
   "cell_type": "markdown",
   "metadata": {},
   "source": [
    "This notebook was created by Nathan Goldbaum and was used during the 2018 Enzo Workshops. More tutorials and information for yt and Enzo can be found [here](https://sites.google.com/view/enzodays2018/program/user-tutorials?authuser=0).\n",
    "\n",
    "The [yt Cookbook](https://yt-project.org/doc/cookbook/index.html) is extremely useful when you are trying to figure out how to do certain things. "
   ]
  },
  {
   "cell_type": "markdown",
   "metadata": {},
   "source": [
    "### Getting Started\n",
    "\n",
    "yt is a Python library, which mean you need a Python installation to use it. For the sake of time, I'm going to assume that you have at least passing familiarity with Python at the level of a Software Carpentry session. If you are completely unfamiliar with Python, here are some links to introductory material on the Python language:\n",
    "\n",
    "https://swcarpentry.github.io/python-novice-inflammation/\n",
    "\n",
    "https://docs.python.org/3/tutorial/\n",
    "\n",
    "If you have an existing Python installation on your laptop, you should use that installation's package manager to install yt. If your python installation is based on Anaconda or Miniconda, you can install yt using the following command:\n",
    "\n",
    "```bash\n",
    "$ conda install yt\n",
    "```\n",
    "\n",
    "yt is also available via the `conda-forge` channel:\n",
    "\n",
    "```bash\n",
    "$ conda install -c conda-forge yt\n",
    "```\n",
    "\n",
    "Otherwise, you can install yt with pip as well:\n",
    "\n",
    "```bash\n",
    "$ pip install yt\n",
    "```\n",
    "\n",
    "Finally, if you do not have a python installation at all, you can make use of the yt install script, which sets up a python environment based on Miniconda. If you feel like you don't want to keep this Python environment around after the workshop, you can just delete the `yt-conda` folder. This will completely erase the yt and Python installation the install script creates. To get the latest copy of the install script, do the following:\n",
    "\n",
    "```bash\n",
    "$ wget https://raw.githubusercontent.com/yt-project/yt/master/doc/install_script.sh\n",
    "```\n",
    "\n",
    "If you don't have wget, you might have `curl` installed:\n",
    "\n",
    "```bash\n",
    "$ curl -O https://raw.githubusercontent.com/yt-project/yt/master/doc/install_script.sh\n",
    "```\n",
    "\n",
    "And then execute the script in the folder you'd like to place the yt installation:\n",
    "\n",
    "```\n",
    "$ bash install_script.sh\n",
    "```\n",
    "\n",
    "If you'd like to customize your installation (for example, to tell the script to install some additional optional dependencies or to tell the script to build yt from source) you can edit the script and modify some of the variables that are set at the top of the script.\n",
    "\n",
    "Once the install script finishes running it will print some information out about how to modify your `PATH` environment variable to \"activate\" your installation. You may want to add the command the script prints out to your .bashrc file so the yt installation is automatically activated when you open a shell prompt."
   ]
  },
  {
   "cell_type": "markdown",
   "metadata": {},
   "source": [
    "### Data used by this tutorial"
   ]
  },
  {
   "cell_type": "markdown",
   "metadata": {},
   "source": [
    "I'll be making use of two publicly available collections of Enzo data from yt-project.org/data. If you'd like to follow along, the following cell will download the test data and unzip it in the directory the notebook is running from if you uncomment the lines inside the cell"
   ]
  },
  {
   "cell_type": "code",
   "execution_count": null,
   "metadata": {},
   "outputs": [],
   "source": [
    "#!wget http://yt-project.org/data/IsolatedGalaxy.tar.gz\n",
    "#!tar -zxvf IsolatedGalaxy.tar.gz\n",
    "\n",
    "!wget http://yt-project.org/data/enzo_cosmology_plus.tar.gz\n",
    "!tar -zxvf enzo_cosmology_plus.tar.gz\n",
    "\n",
    "!rm enzo_cosmology_plus.tar.gz\n",
    "!rm IsolatedGalaxy.tar.gz"
   ]
  },
  {
   "cell_type": "markdown",
   "metadata": {},
   "source": [
    "### Loading Data\n",
    "\n",
    "Since this is an Enzo workshop I'm going to focus on Enzo data. For more details about loading other kinds of data, see http://yt-project.org/doc/examining/loading_data.html.\n",
    "\n",
    "An enzo output is just a folder:"
   ]
  },
  {
   "cell_type": "code",
   "execution_count": null,
   "metadata": {},
   "outputs": [],
   "source": [
    "ls IsolatedGalaxy/galaxy0030/"
   ]
  },
  {
   "cell_type": "code",
   "execution_count": null,
   "metadata": {},
   "outputs": [],
   "source": [
    "cat IsolatedGalaxy/galaxy0030/galaxy0030"
   ]
  },
  {
   "cell_type": "markdown",
   "metadata": {},
   "source": [
    "You can see that there are a number of files in the folder. The `.cpu` files contain the field data for each of the grids that resided on each processor the simulation was originally run on. These contain the bulk of the data. There are a number of other files that contain metadata about the grid hierarchy, supplementary physics, and Enzo's build configuration.\n",
    "\n",
    "For the purposes of using yt, the most important file is the *parameter file*, in this case its name is `galaxy0030`."
   ]
  },
  {
   "cell_type": "code",
   "execution_count": null,
   "metadata": {},
   "outputs": [],
   "source": [
    "!head IsolatedGalaxy/galaxy0030/galaxy0030"
   ]
  },
  {
   "cell_type": "markdown",
   "metadata": {},
   "source": [
    "Parameter files in Enzo output directories contain an exhaustive listing of the simulation's runtime parameters. The first several lines of the file will look something like the output above."
   ]
  },
  {
   "cell_type": "markdown",
   "metadata": {},
   "source": [
    "To load Enzo data into yt, use the `yt.load()` function. Pass `yt.load()` the path to the Enzo parameter file of the dataset you'd like to load:"
   ]
  },
  {
   "cell_type": "code",
   "execution_count": null,
   "metadata": {},
   "outputs": [],
   "source": [
    "import yt\n",
    "\n",
    "ds = yt.load('IsolatedGalaxy/galaxy0030/galaxy0030')"
   ]
  },
  {
   "cell_type": "code",
   "execution_count": null,
   "metadata": {},
   "outputs": [],
   "source": [
    "def stars(pfilter, data):\n",
    "    return ((data['particle_type'] == 2) & (data['creation_time'] > 0))\n",
    "\n",
    "yt.add_particle_filter('stars', function=stars, filtered_type='all', requires=[\"particle_type\", 'creation_time'])\n"
   ]
  },
  {
   "cell_type": "code",
   "execution_count": null,
   "metadata": {},
   "outputs": [],
   "source": [
    "ds.add_particle_filter('stars')"
   ]
  },
  {
   "cell_type": "code",
   "execution_count": null,
   "metadata": {},
   "outputs": [],
   "source": [
    "type(ds)"
   ]
  },
  {
   "cell_type": "code",
   "execution_count": null,
   "metadata": {},
   "outputs": [],
   "source": [
    "ds.parameter_filename"
   ]
  },
  {
   "cell_type": "markdown",
   "metadata": {},
   "source": [
    "#### Log messages and the configuration file"
   ]
  },
  {
   "cell_type": "markdown",
   "metadata": {},
   "source": [
    "yt will emit diagnostic logging information during many operations. If you'd like to turn that off in your current session, you can do that by setting the log level:"
   ]
  },
  {
   "cell_type": "code",
   "execution_count": null,
   "metadata": {},
   "outputs": [],
   "source": [
    "from yt.funcs import mylog\n",
    "\n",
    "# only critical log messages are printed\n",
    "mylog.setLevel(50)\n",
    "\n",
    "# the default log level is 20, which shows warnings and info messages\n",
    "mylog.setLevel(20)"
   ]
  },
  {
   "cell_type": "markdown",
   "metadata": {},
   "source": [
    "If you'd like to permanently turn off yt's log messages, you can set that in your yt config file. If you do not have a config file already, you can create it by creating a file at the path `$HOME/.config/yt/ytrc`:"
   ]
  },
  {
   "cell_type": "code",
   "execution_count": null,
   "metadata": {},
   "outputs": [],
   "source": [
    "!cat ~/.config/yt/ytrc"
   ]
  },
  {
   "cell_type": "markdown",
   "metadata": {},
   "source": [
    "Setting the `suppressStreamLogging` config option to True will disable all logging messages.\n",
    "\n",
    "To find out more about the yt configuration file, see http://yt-project.org/doc/reference/configuration.html#the-configuration-file."
   ]
  },
  {
   "cell_type": "markdown",
   "metadata": {},
   "source": [
    "### Accessing data\n",
    "\n",
    "While it does a lot more than this, one way to think of yt is as a reader for Enzo data. Once you've loaded a dataset, yt can be used to quickly access the data contained in the HDF5 output files Enzo writes to disk without knowing the grid hierarchy or anything else about the data as they're laid out on-disk."
   ]
  },
  {
   "cell_type": "markdown",
   "metadata": {},
   "source": [
    "#### Fields\n",
    "\n",
    "To access data, we need a way to tell yt which data we want to access. We do this via a yt field. Field names consist of a tuple of two strings:\n",
    "\n",
    "    (field_type, field_name)\n",
    "    \n",
    "The first string, the *field type*, denotes the *kind* of field we are acessing. For Enzo data this allows yt to distinguish between particle fields and fields defined on the AMR mesh, among other things.\n",
    "\n",
    "The second string is the *field name*, which denotes which field, among the other fields in the same type, to access.\n",
    "\n",
    "To see what fields are available in an Enzo dataset, print out the `ds.field_list` variable:"
   ]
  },
  {
   "cell_type": "code",
   "execution_count": null,
   "metadata": {},
   "outputs": [],
   "source": [
    "ds.field_list"
   ]
  },
  {
   "cell_type": "markdown",
   "metadata": {},
   "source": [
    "For the dataset we loaded earlier there are three kinds of fields available in `ds.field_list`, these are denoted by the `all`, `io`, and `enzo` field types.\n",
    "\n",
    "The `enzo` field type corresponds to variables defined on the AMR mesh. Let's take a look at just those fields:"
   ]
  },
  {
   "cell_type": "code",
   "execution_count": null,
   "metadata": {},
   "outputs": [],
   "source": [
    "for f in ds.field_list:\n",
    "    if f[0] == 'enzo':\n",
    "        print(f)"
   ]
  },
  {
   "cell_type": "markdown",
   "metadata": {},
   "source": [
    "This dataset contains a large number of on-disk fields. Usually the number of `enzo` fields will be smaller. Generally datasets always contain a `Density`, `x-velocity`, `y-velocity`, and `z-velocity` field, along with a `TotalEnergy` field and possible an `InternalEnergy` field depending on the settings used to run the simulation. Additional fields correspond to optional physics packages used in the Enzo simulation."
   ]
  },
  {
   "cell_type": "markdown",
   "metadata": {},
   "source": [
    "If you'd like additional information about a yt field, you can access that via the `ds.fields` object. For example, let's get some more information about the `('enzo', 'Density')` field:"
   ]
  },
  {
   "cell_type": "code",
   "execution_count": null,
   "metadata": {},
   "outputs": [],
   "source": [
    "f = ds.fields.enzo.Density\n",
    "\n",
    "f"
   ]
  },
  {
   "cell_type": "code",
   "execution_count": null,
   "metadata": {},
   "outputs": [],
   "source": [
    "ds.fields.enzo.Bx"
   ]
  },
  {
   "cell_type": "code",
   "execution_count": null,
   "metadata": {},
   "outputs": [],
   "source": [
    "f.get_latex_display_name()"
   ]
  },
  {
   "cell_type": "code",
   "execution_count": null,
   "metadata": {},
   "outputs": [],
   "source": [
    "f.sampling_type"
   ]
  },
  {
   "cell_type": "markdown",
   "metadata": {},
   "source": [
    "The `'io'` and `'all'` fields are *particle* fields (e.g. fields that are defined at the locations of particles). In Enzo multiple particle types are located in the same on-disk arrays, so there is only one kind of particle by default in Enzo simulations. This corresponds to the `'io'` particle type. For enzo data `'io'` and `'all'` are identical, but for simulation outputs where different particle types are in different arrays on-disk (like Gadget data) the `'all'` particle type is a union of all the particle types available on-disk."
   ]
  },
  {
   "cell_type": "markdown",
   "metadata": {},
   "source": [
    "Often it is convenient with Enzo data to *define* a particle type corresponding to a specific kind of particle. See below for a discussion of particle filters, which allow creating your own custom particle types based on the `io` particle type."
   ]
  },
  {
   "cell_type": "markdown",
   "metadata": {},
   "source": [
    "On-disk fields are always returned in code units. This ensures that the raw floating point data returned by yt will be the same as what's actually in the HDF5 files on disk. This can be very useful when debugging an Enzo simulation using yt.\n",
    "\n",
    "Other fields will be returned in CGS units by default. If you would prefer to use another unit system, you can customize the default unit system of a dataset by passing e.g. `unit_system='mks'` (or the name of the unit system you would like to use) in your call to `yt.load`. We even support defining custom unit systems if you would like. See http://yt-project.org/doc/analyzing/units/unit_systems.html for more detail."
   ]
  },
  {
   "cell_type": "markdown",
   "metadata": {},
   "source": [
    "In addition to on-disk fields, yt also has a concept of *derived fields*, e.g. fields that can be formed out of combinations of fields that are available on-disk.\n",
    "\n",
    "There are a number of different kind of derived fields. The most common type is available via the `'gas'` field type:"
   ]
  },
  {
   "cell_type": "code",
   "execution_count": null,
   "metadata": {},
   "outputs": [],
   "source": [
    "ds.derived_field_list"
   ]
  },
  {
   "cell_type": "code",
   "execution_count": null,
   "metadata": {},
   "outputs": [],
   "source": [
    "for field in ds.fields.gas:\n",
    "    print(field.name)"
   ]
  },
  {
   "cell_type": "markdown",
   "metadata": {},
   "source": [
    "Some of these fields are aliases to the on-disk fields:"
   ]
  },
  {
   "cell_type": "code",
   "execution_count": null,
   "metadata": {},
   "outputs": [],
   "source": [
    "ds.fields.gas.density"
   ]
  },
  {
   "cell_type": "markdown",
   "metadata": {},
   "source": [
    "Others are defined in terms of a python function:"
   ]
  },
  {
   "cell_type": "code",
   "execution_count": null,
   "metadata": {},
   "outputs": [],
   "source": [
    "ds.fields.gas.cell_mass"
   ]
  },
  {
   "cell_type": "code",
   "execution_count": null,
   "metadata": {},
   "outputs": [],
   "source": [
    "print(ds.fields.gas.cell_mass.get_source())"
   ]
  },
  {
   "cell_type": "markdown",
   "metadata": {},
   "source": [
    "In fact you can define your own yt fields by writing a Python function. This process is described below."
   ]
  },
  {
   "cell_type": "markdown",
   "metadata": {},
   "source": [
    "#### Data Objects\n",
    "\n",
    "To actually access the raw data in a field, you need to create a data object first. Let's first experiment with the simplest yt data object, `ds.all_data()`, which allows access to all of the data in a dataset. To access a field, pass the name of a field to the data object, using dictionary-like access (e.g. going through `__getitem__`):"
   ]
  },
  {
   "cell_type": "code",
   "execution_count": null,
   "metadata": {},
   "outputs": [],
   "source": [
    "ad = ds.all_data()\n",
    "\n",
    "density_field = ('enzo', 'Density')\n",
    "\n",
    "print(ad[density_field])\n",
    "\n",
    "print(ad[density_field].shape)"
   ]
  },
  {
   "cell_type": "markdown",
   "metadata": {},
   "source": [
    "You can see that we get back a 1D array of data. Each data point is a Density value in one of the zones in the simulation. This particular simulation has about 3.6 million AMR zones.\n",
    "\n",
    "You can see that the resolution of the data is variable by, for example, looking at the `('index', 'dx')` field. This field is the spatial resolution in the x dimension for each AMR zone in the simulation:"
   ]
  },
  {
   "cell_type": "code",
   "execution_count": null,
   "metadata": {},
   "outputs": [],
   "source": [
    "import numpy as np\n",
    "\n",
    "print(ad['index', 'dx'])"
   ]
  },
  {
   "cell_type": "code",
   "execution_count": null,
   "metadata": {},
   "outputs": [],
   "source": [
    "print(np.unique(ad['index', 'dx']))"
   ]
  },
  {
   "cell_type": "code",
   "execution_count": null,
   "metadata": {},
   "outputs": [],
   "source": [
    "ds.print_stats()"
   ]
  },
  {
   "cell_type": "code",
   "execution_count": null,
   "metadata": {},
   "outputs": [],
   "source": [
    "# Doesn't work\n",
    "\n",
    "#print(ds.min_level)\n",
    "#print(ds.max_level)"
   ]
  },
  {
   "cell_type": "markdown",
   "metadata": {},
   "source": [
    "yt will always return a flattened array of data from data object accesses, even for a unigrid simulation, to ease reuse of yt scripts no matter what the input data looks like."
   ]
  },
  {
   "cell_type": "markdown",
   "metadata": {},
   "source": [
    "`ds.all_data()` is a 3D data container, in that it selects data in the simulation based on a 3D geometric object. In this case the geometric object is a cube the same size as the simulation box:"
   ]
  },
  {
   "cell_type": "code",
   "execution_count": null,
   "metadata": {},
   "outputs": [],
   "source": [
    "ds.all_data()"
   ]
  },
  {
   "cell_type": "code",
   "execution_count": null,
   "metadata": {},
   "outputs": [],
   "source": [
    "print(ds.domain_left_edge.to('cm'))\n",
    "print(ds.domain_right_edge.to('cm'))"
   ]
  },
  {
   "cell_type": "markdown",
   "metadata": {},
   "source": [
    "yt has a large number of other 0D, 1D, 2D, and 3D data containers built in. This includes:\n",
    "\n",
    "* single point (`ds.point`)\n",
    "* 1D line (`ds.ray`)\n",
    "* 2D plane (`ds.slice` for axis-aligned planes and `ds.cutting` for off-axis planes)\n",
    "* Rectangular prisms (`ds.box` and `ds.region`)\n",
    "* cylinder (`ds.disk`)\n",
    "* sphere (`ds.sphere`)\n",
    "* ellipsoid (`ds.ellipsoid`)\n",
    "\n",
    "For a full listing of data objects in yt, along with a short description of each and usage instructions, see http://yt-project.org/doc/analyzing/objects.html#available-objects"
   ]
  },
  {
   "cell_type": "markdown",
   "metadata": {},
   "source": [
    "A geometric data objects lets you select only a subset of the data that you care about for some purpose. An AMR zone is selected based on whether the center of the zone is located within the volume of the 3D object defined by the data object. There is no selection based on partial overlap with the geometric control volume.\n",
    "\n",
    "For 0D, 1D, and 2D data objects, the selection is based on whether the geometric object intersects with an amr zone.\n",
    "\n",
    "By far the most common data objects that people work with are the rectangular prisms and spheres, so I will show worked examples for those."
   ]
  },
  {
   "cell_type": "markdown",
   "metadata": {},
   "source": [
    "##### `ds.sphere`"
   ]
  },
  {
   "cell_type": "markdown",
   "metadata": {},
   "source": [
    "Defining a sphere requires specifying the center of the sphere and its radius. We will go into a deeper discussion of units below, but for now let's just define this sphere using internal code units by specifying the coordinates of the center and radius with unitless data (in Enzo the coordinates go from (0, 0, 0) in the bottom left hand corner to (1, 1, 1) in the top right corner)."
   ]
  },
  {
   "cell_type": "code",
   "execution_count": null,
   "metadata": {},
   "outputs": [],
   "source": [
    "sp = ds.sphere([0.5, 0.5, 0.5], 0.05)"
   ]
  },
  {
   "cell_type": "code",
   "execution_count": null,
   "metadata": {},
   "outputs": [],
   "source": [
    "sp.center.to('code_length')"
   ]
  },
  {
   "cell_type": "code",
   "execution_count": null,
   "metadata": {},
   "outputs": [],
   "source": [
    "sp.radius.to('code_length')"
   ]
  },
  {
   "cell_type": "markdown",
   "metadata": {},
   "source": [
    "If we query the sphere for a field, we'll see that we select fewer data points than if we had used `ds.all_data()`:"
   ]
  },
  {
   "cell_type": "code",
   "execution_count": null,
   "metadata": {},
   "outputs": [],
   "source": [
    "print(sp['enzo', 'Density'])"
   ]
  },
  {
   "cell_type": "code",
   "execution_count": null,
   "metadata": {},
   "outputs": [],
   "source": [
    "print(sp['enzo', 'Density'].shape)"
   ]
  },
  {
   "cell_type": "markdown",
   "metadata": {},
   "source": [
    "Since most of the structure in this simulation is at the center of the simulation box, we still select a lot of zones, but now we've excluded quite a few zones at low AMR levels:"
   ]
  },
  {
   "cell_type": "code",
   "execution_count": null,
   "metadata": {},
   "outputs": [],
   "source": [
    "print(np.unique(sp['index', 'grid_level']))"
   ]
  },
  {
   "cell_type": "code",
   "execution_count": null,
   "metadata": {},
   "outputs": [],
   "source": [
    "ds.sphere?"
   ]
  },
  {
   "cell_type": "markdown",
   "metadata": {},
   "source": [
    "You can create a rectangular prism using `ds.box`. The prism is defined in terms of its bottom left corner and top right corner:"
   ]
  },
  {
   "cell_type": "code",
   "execution_count": null,
   "metadata": {},
   "outputs": [],
   "source": [
    "reg = ds.box([0.4, 0.4, 0.4], [0.6, 0.6, 0.6])"
   ]
  },
  {
   "cell_type": "code",
   "execution_count": null,
   "metadata": {},
   "outputs": [],
   "source": [
    "reg.left_edge.to('code_length')"
   ]
  },
  {
   "cell_type": "code",
   "execution_count": null,
   "metadata": {},
   "outputs": [],
   "source": [
    "reg.right_edge.to('code_length')"
   ]
  },
  {
   "cell_type": "code",
   "execution_count": null,
   "metadata": {},
   "outputs": [],
   "source": [
    "reg['gas', 'density']"
   ]
  },
  {
   "cell_type": "code",
   "execution_count": null,
   "metadata": {},
   "outputs": [],
   "source": [
    "reg['gas', 'density'].shape"
   ]
  },
  {
   "cell_type": "markdown",
   "metadata": {},
   "source": [
    "#### Units\n",
    "\n",
    "yt has a unit system built on a subclass of NumPy's `ndarray`: `YTArray`. It allows you to do mathematical operations that are \"unit-aware\". To see what I mean, let's take a look at a couple of examples."
   ]
  },
  {
   "cell_type": "code",
   "execution_count": null,
   "metadata": {},
   "outputs": [],
   "source": [
    "import unyt as u\n",
    "from unyt import mass_jupiter as Mjup, G, km\n",
    "#from yt.units import mass_jupiter as Mjup, G, km\n",
    "from math import pi\n",
    "\n",
    "moons = ['Io', 'Europa', 'Ganymede', 'Callisto']\n",
    "semimajor_axis = [421700, 671034, 1070412, 1882709]*km\n",
    "\n",
    "period = 2*pi*(semimajor_axis**3/(G*Mjup))**0.5\n",
    "period = period.to('day')\n",
    "\n",
    "for moon, period in zip(moons, period):\n",
    "     print('{}: {:05.3f} days'.format(moon, period))"
   ]
  },
  {
   "cell_type": "markdown",
   "metadata": {},
   "source": [
    "Let’s break up this example into a few components so you can see what’s going on. First, we import the unit symbols we need from `unyt`:"
   ]
  },
  {
   "cell_type": "code",
   "execution_count": null,
   "metadata": {},
   "outputs": [],
   "source": [
    "from unyt import pc\n",
    "\n",
    "quan = 1 * pc\n",
    "\n",
    "quan.to('fpc')"
   ]
  },
  {
   "cell_type": "markdown",
   "metadata": {},
   "source": [
    "`unyt` has a large number of units and physical constants you can import to apply units to data in your own code. You can see how that works in the example:"
   ]
  },
  {
   "cell_type": "code",
   "execution_count": null,
   "metadata": {},
   "outputs": [],
   "source": [
    "semimajor_axis = [421700, 671034, 1070412, 1882709]*km\n",
    "semimajor_axis"
   ]
  },
  {
   "cell_type": "markdown",
   "metadata": {},
   "source": [
    "By multiplying by `km`, we converted the python list into a YTArray instance. This is a class that’s built into yt, has units attached to it, and knows how to convert itself into different dimensionally equivalent units:"
   ]
  },
  {
   "cell_type": "code",
   "execution_count": null,
   "metadata": {},
   "outputs": [],
   "source": [
    "semimajor_axis.value"
   ]
  },
  {
   "cell_type": "code",
   "execution_count": null,
   "metadata": {},
   "outputs": [],
   "source": [
    "semimajor_axis.units"
   ]
  },
  {
   "cell_type": "code",
   "execution_count": null,
   "metadata": {},
   "outputs": [],
   "source": [
    "print(semimajor_axis.to('AU'))"
   ]
  },
  {
   "cell_type": "markdown",
   "metadata": {},
   "source": [
    "Next, we calculated the orbital period by translating the orbital period formula to Python and then converting the answer to the units we want in the end, days:"
   ]
  },
  {
   "cell_type": "code",
   "execution_count": null,
   "metadata": {},
   "outputs": [],
   "source": [
    "period = 2*pi*(semimajor_axis**3/(G*Mjup))**0.5\n",
    "period"
   ]
  },
  {
   "cell_type": "code",
   "execution_count": null,
   "metadata": {},
   "outputs": [],
   "source": [
    "period.to('day')"
   ]
  },
  {
   "cell_type": "markdown",
   "metadata": {},
   "source": [
    "Note that we haven’t added any conversion factors between different units, that’s all handled internally by yt. Also note how the intermediate result ended up with complicated, ugly units, but the `YTArray.to` method was able to automagically handle the conversion to days.\n",
    "\n",
    "It’s also worth emphasizing that yt represents powers using standard python syntax. This means you must use `**` and not `^`, even when writing a unit as a string:"
   ]
  },
  {
   "cell_type": "code",
   "execution_count": null,
   "metadata": {},
   "outputs": [],
   "source": [
    "from unyt import kg, m\n",
    "print((10*kg/m**3).to('g/cm**3'))"
   ]
  },
  {
   "cell_type": "markdown",
   "metadata": {},
   "source": [
    "yt will not let you add or subtract data that does not have compatibly units:"
   ]
  },
  {
   "cell_type": "code",
   "execution_count": null,
   "metadata": {},
   "outputs": [],
   "source": [
    "kg+m"
   ]
  },
  {
   "cell_type": "markdown",
   "metadata": {},
   "source": [
    "All yt API functions should accept data that has units attached. Generally the rule is that if you pass data without units, yt interprets that as implying you want to use the internal \"code\" unit system. That means if you want to pass data that has a specific unit, you need to make sure to apply units to data you pass to yt.\n",
    "\n",
    "Many functions also accept data as a `(value, unit)` tuple. So you could pass `(3, 'km')` to represent `from yt.units import km; 3*km`."
   ]
  },
  {
   "cell_type": "markdown",
   "metadata": {},
   "source": [
    "The `yt.units` namespace only includes *physical* units. This means that units that depend on knowing details of a dataset, for example code unit or comoving units in a cosmology simulation, are not available there. To ameliorate this issue, yt has helper methods that are attached to a dataset object to create data in these units:"
   ]
  },
  {
   "cell_type": "code",
   "execution_count": null,
   "metadata": {},
   "outputs": [],
   "source": [
    "ds = yt.load('enzo_cosmology_plus/DD0024/DD0024')"
   ]
  },
  {
   "cell_type": "code",
   "execution_count": null,
   "metadata": {},
   "outputs": [],
   "source": [
    "scalar_in_code_units = ds.quan(3, 'code_length')"
   ]
  },
  {
   "cell_type": "code",
   "execution_count": null,
   "metadata": {},
   "outputs": [],
   "source": [
    "scalar_in_code_units"
   ]
  },
  {
   "cell_type": "code",
   "execution_count": null,
   "metadata": {},
   "outputs": [],
   "source": [
    "scalar_in_code_units.to('Mpc')"
   ]
  },
  {
   "cell_type": "code",
   "execution_count": null,
   "metadata": {},
   "outputs": [],
   "source": [
    "scalar_in_code_units.to('Mpccm')"
   ]
  },
  {
   "cell_type": "code",
   "execution_count": null,
   "metadata": {},
   "outputs": [],
   "source": [
    "scalar_in_code_units.convert_to_units('Mpccm/h')"
   ]
  },
  {
   "cell_type": "markdown",
   "metadata": {},
   "source": [
    "You can also create arrays of data with code units:"
   ]
  },
  {
   "cell_type": "code",
   "execution_count": null,
   "metadata": {},
   "outputs": [],
   "source": [
    "ds.arr(np.random.random(int(1e6)), 'code_length')"
   ]
  },
  {
   "cell_type": "markdown",
   "metadata": {},
   "source": [
    "Datasets also have a number of quantities attached to them that you can use to see what the units of the dataset are:"
   ]
  },
  {
   "cell_type": "code",
   "execution_count": null,
   "metadata": {},
   "outputs": [],
   "source": [
    "ds.length_unit"
   ]
  },
  {
   "cell_type": "code",
   "execution_count": null,
   "metadata": {},
   "outputs": [],
   "source": [
    "ds.time_unit.to('Gyr')"
   ]
  },
  {
   "cell_type": "code",
   "execution_count": null,
   "metadata": {},
   "outputs": [],
   "source": [
    "ds.velocity_unit.to('km/s')"
   ]
  },
  {
   "cell_type": "code",
   "execution_count": null,
   "metadata": {},
   "outputs": [],
   "source": [
    "ds.mass_unit.to('Msun')"
   ]
  },
  {
   "cell_type": "markdown",
   "metadata": {},
   "source": [
    "#### Derived quantities\n",
    "\n",
    "Sometimes you may want to calculate derived information or statistics based on a data object.\n",
    "To do this, yt provides \"derived quantities\" that allow computation of a number of pre-canned statistics of the data contained in a data object. Let's take a look at an example:"
   ]
  },
  {
   "cell_type": "code",
   "execution_count": null,
   "metadata": {},
   "outputs": [],
   "source": [
    "ad = ds.all_data()"
   ]
  },
  {
   "cell_type": "code",
   "execution_count": null,
   "metadata": {},
   "outputs": [],
   "source": [
    "ad.quantities.total_mass()"
   ]
  },
  {
   "cell_type": "markdown",
   "metadata": {},
   "source": [
    "In this example I'm using the `TotalMass` derived quantity. It returns a 2-element array. The first entry corresponds to the gas mass, the second corresponds to the total particle mass."
   ]
  },
  {
   "cell_type": "markdown",
   "metadata": {},
   "source": [
    "Out of the box, yt ships with the following derived quantities:\n",
    "\n",
    "* angular_momentum_vector\n",
    "* bulk_velocity\n",
    "* center_of_mass\n",
    "* extrema (the min and max of a field)\n",
    "* max_location (the location of the max value of a field)\n",
    "* min_location (the location of the min value of a field)\n",
    "* spin_parameter\n",
    "* total_mass\n",
    "* total_quantity (the total of an arbitrary field)\n",
    "* weighted_average_quantity (weighted average of a field)\n",
    "* weighted_variance (the weighted variance of a field)\n",
    "\n",
    "yt derived quantities are all parallel-aware. You'll here more about yt's parallelism tomorrow from Britton."
   ]
  },
  {
   "cell_type": "markdown",
   "metadata": {},
   "source": [
    "Some of the derived quantities take arguments. Here's how that looks:"
   ]
  },
  {
   "cell_type": "code",
   "execution_count": null,
   "metadata": {},
   "outputs": [],
   "source": [
    "ad.quantities.weighted_average_quantity(('gas', 'density'), ('gas', 'cell_mass'))"
   ]
  },
  {
   "cell_type": "code",
   "execution_count": null,
   "metadata": {},
   "outputs": [],
   "source": [
    "ad.quantities.weighted_average_quantity(('gas', 'density'), ('gas', 'cell_volume'))"
   ]
  },
  {
   "cell_type": "markdown",
   "metadata": {},
   "source": [
    "#### Accessing data on Enzo grids\n",
    "\n",
    "Finally, especially when debugging an Enzo simulation or doing something low-level, it can be very useful to access the data from the Enzo grids directly. yt provides an interface for this:"
   ]
  },
  {
   "cell_type": "code",
   "execution_count": null,
   "metadata": {},
   "outputs": [],
   "source": [
    "ds.index.grids"
   ]
  },
  {
   "cell_type": "code",
   "execution_count": null,
   "metadata": {},
   "outputs": [],
   "source": [
    "g = ds.index.grids[-1]\n",
    "\n",
    "g"
   ]
  },
  {
   "cell_type": "code",
   "execution_count": null,
   "metadata": {},
   "outputs": [],
   "source": [
    "g['enzo', 'Density'].T"
   ]
  },
  {
   "cell_type": "code",
   "execution_count": null,
   "metadata": {},
   "outputs": [],
   "source": [
    "g['enzo', 'Density'].shape"
   ]
  },
  {
   "cell_type": "code",
   "execution_count": null,
   "metadata": {},
   "outputs": [],
   "source": [
    "g.ActiveDimensions"
   ]
  },
  {
   "cell_type": "code",
   "execution_count": null,
   "metadata": {},
   "outputs": [],
   "source": [
    "g.LeftEdge, g.RightEdge"
   ]
  },
  {
   "cell_type": "code",
   "execution_count": null,
   "metadata": {},
   "outputs": [],
   "source": [
    "g.Parent"
   ]
  },
  {
   "cell_type": "code",
   "execution_count": null,
   "metadata": {},
   "outputs": [],
   "source": [
    "g.Children"
   ]
  },
  {
   "cell_type": "code",
   "execution_count": null,
   "metadata": {},
   "outputs": [],
   "source": [
    "g.NumberOfParticles"
   ]
  },
  {
   "cell_type": "code",
   "execution_count": null,
   "metadata": {},
   "outputs": [],
   "source": [
    "g.Level"
   ]
  },
  {
   "cell_type": "code",
   "execution_count": null,
   "metadata": {},
   "outputs": [],
   "source": [
    "g.filename"
   ]
  },
  {
   "cell_type": "code",
   "execution_count": null,
   "metadata": {},
   "outputs": [],
   "source": [
    "import h5py\n",
    "\n",
    "f = h5py.File(g.filename)\n",
    "\n",
    "f['Grid00000110']['Density'][:]"
   ]
  },
  {
   "cell_type": "markdown",
   "metadata": {},
   "source": [
    "#### Quick visualization and Data exploration\n",
    "\n",
    "OK, now that we've gone over all that boring data access stuff, let's make some pretty pictures :)"
   ]
  },
  {
   "cell_type": "markdown",
   "metadata": {},
   "source": [
    "##### `SlicePlot` and `ProjectionPlot`\n",
    "\n",
    "The primary interface for visualizaing data loadable by yt is via `SlicePlot` and `ProjectionPlot`, which produce visualizations of slices and projections of a simulation, respectively."
   ]
  },
  {
   "cell_type": "code",
   "execution_count": null,
   "metadata": {},
   "outputs": [],
   "source": [
    "ds = yt.load('IsolatedGalaxy/galaxy0030/galaxy0030')\n",
    "\n",
    "plot = yt.SlicePlot(ds, 'z', ('gas', 'density'))"
   ]
  },
  {
   "cell_type": "code",
   "execution_count": null,
   "metadata": {},
   "outputs": [],
   "source": [
    "plot"
   ]
  },
  {
   "cell_type": "code",
   "execution_count": null,
   "metadata": {},
   "outputs": [],
   "source": [
    "plot.zoom(10)"
   ]
  },
  {
   "cell_type": "code",
   "execution_count": null,
   "metadata": {},
   "outputs": [],
   "source": [
    "plot.zoom(3)"
   ]
  },
  {
   "cell_type": "code",
   "execution_count": null,
   "metadata": {},
   "outputs": [],
   "source": [
    "yt.SlicePlot?"
   ]
  },
  {
   "cell_type": "code",
   "execution_count": null,
   "metadata": {},
   "outputs": [],
   "source": [
    "plot = yt.SlicePlot(ds, 2, 'density', width=(20, 'kpc'), origin='native', axes_unit='code_length')\n",
    "\n",
    "plot"
   ]
  },
  {
   "cell_type": "code",
   "execution_count": null,
   "metadata": {},
   "outputs": [],
   "source": [
    "yt.SlicePlot(ds, 2, ['density', 'temperature', 'grid_level'])"
   ]
  },
  {
   "cell_type": "code",
   "execution_count": null,
   "metadata": {},
   "outputs": [],
   "source": [
    "plot = yt.SlicePlot(ds, 2, 'grid_level')\n",
    "\n",
    "plot.set_log('grid_level', False)"
   ]
  },
  {
   "cell_type": "code",
   "execution_count": null,
   "metadata": {},
   "outputs": [],
   "source": [
    "plot = yt.SlicePlot(ds, 2, 'density', width=(20, 'kpc'))\n",
    "\n",
    "plot.set_unit('density', 'msun/pc**3')"
   ]
  },
  {
   "cell_type": "code",
   "execution_count": null,
   "metadata": {},
   "outputs": [],
   "source": [
    "plot.set_cmap('density', 'flag')"
   ]
  },
  {
   "cell_type": "code",
   "execution_count": null,
   "metadata": {},
   "outputs": [],
   "source": [
    "plot.set_cmap('density', 'octarine')"
   ]
  },
  {
   "cell_type": "code",
   "execution_count": null,
   "metadata": {},
   "outputs": [],
   "source": [
    "plot.annotate_grids()"
   ]
  },
  {
   "cell_type": "code",
   "execution_count": null,
   "metadata": {},
   "outputs": [],
   "source": [
    "plot.annotate_line_integral_convolution('velocity_x', 'velocity_y')"
   ]
  },
  {
   "cell_type": "code",
   "execution_count": null,
   "metadata": {},
   "outputs": [],
   "source": [
    "plot.annotate_clear()"
   ]
  },
  {
   "cell_type": "code",
   "execution_count": null,
   "metadata": {},
   "outputs": [],
   "source": [
    "plot.annotate_grids(draw_ids=True)"
   ]
  },
  {
   "cell_type": "code",
   "execution_count": null,
   "metadata": {},
   "outputs": [],
   "source": [
    "plot.annotate_clear()"
   ]
  },
  {
   "cell_type": "code",
   "execution_count": null,
   "metadata": {},
   "outputs": [],
   "source": [
    "p = plot['density']\n",
    "\n",
    "print('Min = ', p.cb.vmin)\n",
    "print('Max = ', p.cb.vmax)"
   ]
  },
  {
   "cell_type": "code",
   "execution_count": null,
   "metadata": {},
   "outputs": [],
   "source": [
    "plot.set_zlim('density', zmin=0.001, zmax=0.1)"
   ]
  },
  {
   "cell_type": "code",
   "execution_count": null,
   "metadata": {},
   "outputs": [],
   "source": [
    "sp = ds.sphere([0.5, 0.5, 0.5], 0.5)\n",
    "\n",
    "prj = yt.ProjectionPlot(ds, 'x', 'density', weight_field='density', data_source=sp)\n",
    "prj"
   ]
  },
  {
   "cell_type": "code",
   "execution_count": null,
   "metadata": {},
   "outputs": [],
   "source": [
    "prj = yt.ProjectionPlot(ds, 'x', 'density', weight_field='density', data_source=sp, width = 0.5)\n",
    "prj"
   ]
  },
  {
   "cell_type": "code",
   "execution_count": null,
   "metadata": {},
   "outputs": [],
   "source": [
    "ad = ds.all_data()\n",
    "stars_pos = ad['stars', 'particle_position']"
   ]
  },
  {
   "cell_type": "code",
   "execution_count": null,
   "metadata": {},
   "outputs": [],
   "source": [
    "prj = yt.ProjectionPlot(ds, 'x', 'density', weight_field='density', width = 0.5)\n",
    "prj.annotate_particles((200, 'kpc'), ptype='stars')\n",
    "prj"
   ]
  },
  {
   "cell_type": "code",
   "execution_count": null,
   "metadata": {},
   "outputs": [],
   "source": [
    "prj = yt.ProjectionPlot(ds, 'x', 'density', weight_field='density', width = (10, 'kpc'))\n",
    "prj.annotate_particles((10, 'kpc'), ptype='stars')\n",
    "prj"
   ]
  },
  {
   "cell_type": "code",
   "execution_count": null,
   "metadata": {},
   "outputs": [],
   "source": [
    "prj = yt.ProjectionPlot(ds, 'z', 'density', weight_field='density', width = (10, 'kpc'))\n",
    "prj.annotate_particles((10, 'kpc'), ptype='stars')\n",
    "prj"
   ]
  },
  {
   "cell_type": "code",
   "execution_count": null,
   "metadata": {},
   "outputs": [],
   "source": [
    "prj = yt.ProjectionPlot(ds, 'z', 'density', weight_field='density', width = (10, 'kpc'))\n",
    "prj.annotate_sphere([0.75, 0.75], radius=(1, 'kpc'), coord_system='axis', text='Halo #7')\n",
    "prj.annotate_sphere([0.5,0.5,0.5], radius=(1.5, 'kpc'), coord_system='data', circle_args={'color':'green', 'linewidth':4, 'linestyle':'dashed'})\n",
    "prj.annotate_text([0.1,0.9], 'Some halos', coord_system='plot')\n",
    "prj.annotate_marker([0.5,0.5,0.5], coord_system='data',\n",
    "                  plot_args={'color':'red', 's':500}, marker = '*')\n",
    "prj.annotate_line([0.2,0.4], [0.3,0.9], coord_system='axis')\n",
    "prj.annotate_timestamp(redshift=True)\n",
    "prj.annotate_scale()"
   ]
  },
  {
   "cell_type": "code",
   "execution_count": null,
   "metadata": {},
   "outputs": [],
   "source": [
    "s = yt.SlicePlot(ds, 'x', 'density')\n",
    "s.set_axes_unit('kpc')\n",
    "\n",
    "# Plot marker and text in data coords\n",
    "s.annotate_marker((0.2, 0.5, 0.9), coord_system='data')\n",
    "s.annotate_text((0.2, 0.5, 0.9), 'data: (0.2, 0.5, 0.9)', coord_system='data')\n",
    "\n",
    "# Plot marker and text in plot coords\n",
    "s.annotate_marker((200, -300), coord_system='plot')\n",
    "s.annotate_text((200, -300), 'plot: (200, -300)', coord_system='plot')\n",
    "\n",
    "# Plot marker and text in axis coords\n",
    "s.annotate_marker((0.1, 0.2), coord_system='axis')\n",
    "s.annotate_text((0.1, 0.2), 'axis: (0.1, 0.2)', coord_system='axis')\n",
    "\n",
    "# Plot marker and text in figure coords\n",
    "# N.B. marker will not render outside of axis bounds\n",
    "s.annotate_marker((0.1, 0.2), coord_system='figure',\n",
    "                plot_args={'color':'black'})\n",
    "s.annotate_text((0.1, 0.2), 'figure: (0.1, 0.2)', coord_system='figure',\n",
    "                text_args={'color':'black'})"
   ]
  },
  {
   "cell_type": "markdown",
   "metadata": {},
   "source": [
    "These last two commands are examples of plot callbacks. In general these callbacks have function names like `plot.annotate_blah`. You can see the full listing of available plot callbacks in yt here along with usage examples: http://yt-project.org/doc/visualizing/callbacks.html"
   ]
  },
  {
   "cell_type": "markdown",
   "metadata": {},
   "source": [
    "I should also note that `SlicePlot` accepts both an axis as well as a normal vector. This allows doing off-axis slices:"
   ]
  },
  {
   "cell_type": "code",
   "execution_count": null,
   "metadata": {},
   "outputs": [],
   "source": [
    "yt.SlicePlot(ds, [1, 1, 1], 'density', width=(20, 'kpc'))"
   ]
  },
  {
   "cell_type": "markdown",
   "metadata": {},
   "source": [
    "You can control the orientation of a an off-axis slice using the `north_vector` keyword argument:"
   ]
  },
  {
   "cell_type": "code",
   "execution_count": null,
   "metadata": {},
   "outputs": [],
   "source": [
    "plot = yt.SlicePlot(ds, [1, 1, 1], 'density', north_vector=[0, 0, 1], width=(20, 'kpc'))\n",
    "\n",
    "plot"
   ]
  },
  {
   "cell_type": "markdown",
   "metadata": {},
   "source": [
    "Some of the callbacks only function correctly for axis-aligned data. The grid callback is an example. These will not be available for off-axis slices or projections. Others have been generalized to work with off-axis data or don't care about the orientation, those will continue to work:"
   ]
  },
  {
   "cell_type": "code",
   "execution_count": null,
   "metadata": {},
   "outputs": [],
   "source": [
    "plot.annotate_title('My title of a plot')"
   ]
  },
  {
   "cell_type": "markdown",
   "metadata": {},
   "source": [
    "In addition to slices, you can also create projection visualizations with `ProjectionPlot`:"
   ]
  },
  {
   "cell_type": "code",
   "execution_count": null,
   "metadata": {},
   "outputs": [],
   "source": [
    "plot = yt.ProjectionPlot(ds, 2, 'density', width=(20, 'kpc'))\n",
    "\n",
    "plot"
   ]
  },
  {
   "cell_type": "markdown",
   "metadata": {},
   "source": [
    "One cool thing about `ProjectionPlot` is that once you've created the projection, zooming and panning is very fast:"
   ]
  },
  {
   "cell_type": "code",
   "execution_count": null,
   "metadata": {},
   "outputs": [],
   "source": [
    "plot.zoom(0.1)"
   ]
  },
  {
   "cell_type": "markdown",
   "metadata": {},
   "source": [
    "Note that by default yt does an unweighted projection and that the quantity being plotted is a surface density. The `ProjectionPlot` command takes a `weight_field` keyword argument, which allows producing a weighted projection:"
   ]
  },
  {
   "cell_type": "code",
   "execution_count": null,
   "metadata": {},
   "outputs": [],
   "source": [
    "yt.ProjectionPlot(ds, 'z', 'density', weight_field='cell_mass', width=(20, 'kpc'))"
   ]
  },
  {
   "cell_type": "code",
   "execution_count": null,
   "metadata": {},
   "outputs": [],
   "source": [
    "yt.ProjectionPlot(ds, 'z', 'density', weight_field='cell_volume', width=(20, 'kpc'))"
   ]
  },
  {
   "cell_type": "code",
   "execution_count": null,
   "metadata": {},
   "outputs": [],
   "source": [
    "yt.ProjectionPlot(ds, 'z', 'density', weight_field='ones', width=(20, 'kpc'))"
   ]
  },
  {
   "cell_type": "markdown",
   "metadata": {},
   "source": [
    "The \"ones\" field is a special field that just returns an array filled with ones:"
   ]
  },
  {
   "cell_type": "code",
   "execution_count": null,
   "metadata": {},
   "outputs": [],
   "source": [
    "ad = ds.all_data()\n",
    "\n",
    "ad['ones']"
   ]
  },
  {
   "cell_type": "markdown",
   "metadata": {},
   "source": [
    "So using 'ones' as a weight field just means doing an unweighted projection. It's the same as `cell_mass=None`, except the answer that gets plotted is divided through by the path length of the projection."
   ]
  },
  {
   "cell_type": "markdown",
   "metadata": {},
   "source": [
    "##### `ProfilePlot` and `PhasePlot`"
   ]
  },
  {
   "cell_type": "markdown",
   "metadata": {},
   "source": [
    "In addition to spatial visualizations, yt can also visualize non-spatial data. The primary ava ue for this is via 1D profile plots and 2D phase plots.\n",
    "\n",
    "Both of these commands allow binning data as a function of one (for ProfilePlot) or two (for PhasePlot) yt fields. You can think of `ProfilePlot` as basically being a 1D histogram and `PhasePlot` as a 2D histogram."
   ]
  },
  {
   "cell_type": "code",
   "execution_count": null,
   "metadata": {},
   "outputs": [],
   "source": [
    "plot = yt.ProfilePlot(ds.all_data(), 'density', 'cell_mass', weight_field=None)\n",
    "\n",
    "plot"
   ]
  },
  {
   "cell_type": "markdown",
   "metadata": {},
   "source": [
    "This plot corresponds to a density histogram. We can turn it into a propbability density function by passing a keyword argument to ProfilePlot:"
   ]
  },
  {
   "cell_type": "code",
   "execution_count": null,
   "metadata": {},
   "outputs": [],
   "source": [
    "yt.ProfilePlot(ds.all_data(), 'density', 'cell_mass', fractional=True)"
   ]
  },
  {
   "cell_type": "markdown",
   "metadata": {},
   "source": [
    "In addition to creating non-spatial histograms, another common task is to make profiles of the average value of a field as a function of radius. Let's do this for one of the halos in the cosmology simulation:"
   ]
  },
  {
   "cell_type": "code",
   "execution_count": null,
   "metadata": {},
   "outputs": [],
   "source": [
    "ds = yt.load('enzo_cosmology_plus/DD0046/DD0046')\n",
    "\n",
    "# quick and dirty halo finder\n",
    "max_val, max_loc = ds.find_max(('gas', 'density'))"
   ]
  },
  {
   "cell_type": "code",
   "execution_count": null,
   "metadata": {},
   "outputs": [],
   "source": [
    "yt.SlicePlot(ds, 'z', 'density', center=max_loc, width=(10, 'Mpc'))"
   ]
  },
  {
   "cell_type": "markdown",
   "metadata": {},
   "source": [
    "Let's plot the average gas density as a function of radius in a sphere centered on this halo:"
   ]
  },
  {
   "cell_type": "code",
   "execution_count": null,
   "metadata": {},
   "outputs": [],
   "source": [
    "plot = yt.ProfilePlot(ds.sphere(max_loc, (5, 'Mpc')), 'radius', 'density', x_log=False)\n",
    "\n",
    "plot.set_unit('radius', 'Mpc')"
   ]
  },
  {
   "cell_type": "code",
   "execution_count": null,
   "metadata": {},
   "outputs": [],
   "source": [
    "sp = ds.sphere(max_loc, (5, \"Mpc\"))\n",
    "\n",
    "sp.set_field_parameter('center', [.3, .3, .3])\n",
    "\n",
    "sp.get_field_parameter('center')"
   ]
  },
  {
   "cell_type": "markdown",
   "metadata": {},
   "source": [
    "Note that by default `ProfilePlot` does a mass-weighted projection. Here's the same thing but using a volume-weighted projection:"
   ]
  },
  {
   "cell_type": "code",
   "execution_count": null,
   "metadata": {},
   "outputs": [],
   "source": [
    "plot = yt.ProfilePlot(ds.sphere(max_loc, (5, 'Mpc')), 'radius', 'density', \n",
    "                      weight_field=None, x_log=False)\n",
    "\n",
    "plot.set_unit('radius', 'Mpc')"
   ]
  },
  {
   "cell_type": "markdown",
   "metadata": {},
   "source": [
    "One gotcha in the API here (that I wish I could fix in a backward compatible way) is that `weight_field=None` corresponds to an *accumulation* in each histogram bin. This makes perfect sense for an extensive field like `cell_mass` but doesn't make any sense for an intensive field like `density`."
   ]
  },
  {
   "cell_type": "markdown",
   "metadata": {},
   "source": [
    "In addition to 1D profiles, yt can also create 2D phase diagrams:"
   ]
  },
  {
   "cell_type": "code",
   "execution_count": null,
   "metadata": {},
   "outputs": [],
   "source": [
    "yt.PhasePlot(ds.all_data(), 'density', 'temperature', 'cell_mass', weight_field=None)"
   ]
  },
  {
   "cell_type": "markdown",
   "metadata": {},
   "source": [
    "In this figure you can see the effect of the feedback used in this simulation, which heats the high density gas to very high temperatures.\n",
    "\n",
    "As with `ProfilePlot` you can pass `fractional=True` to turn this into a probability density function:"
   ]
  },
  {
   "cell_type": "code",
   "execution_count": null,
   "metadata": {},
   "outputs": [],
   "source": [
    "yt.PhasePlot(ds.all_data(), 'density', 'temperature', 'cell_mass', weight_field=None,\n",
    "             fractional=True)"
   ]
  },
  {
   "cell_type": "markdown",
   "metadata": {},
   "source": [
    "Another fun one to look at is a velocity-position phase diagram for the galaxy simulation:"
   ]
  },
  {
   "cell_type": "code",
   "execution_count": null,
   "metadata": {},
   "outputs": [],
   "source": [
    "ds = yt.load('IsolatedGalaxy/galaxy0030/galaxy0030')\n",
    "\n",
    "sp = ds.sphere(ds.domain_center, (20, 'kpc'))\n",
    "\n",
    "plot = yt.PhasePlot(sp, ('index', 'x'), ('gas', 'velocity_x'), ('gas', 'cell_mass'))\n",
    "\n",
    "plot"
   ]
  },
  {
   "cell_type": "markdown",
   "metadata": {},
   "source": [
    "Oh oops, that's ugly! Anyone know what's going wrong here?"
   ]
  },
  {
   "cell_type": "code",
   "execution_count": null,
   "metadata": {},
   "outputs": [],
   "source": [
    "plot.set_log(('index', 'x'), False)\n",
    "plot.set_log(('gas', 'velocity_x'), False)"
   ]
  },
  {
   "cell_type": "markdown",
   "metadata": {},
   "source": [
    "##### yt from the command line\n",
    "\n",
    "* yt plot\n",
    "* yt load\n",
    "* yt upload_image\n",
    "* yt upload"
   ]
  },
  {
   "cell_type": "markdown",
   "metadata": {},
   "source": [
    "### Processing data"
   ]
  },
  {
   "cell_type": "markdown",
   "metadata": {},
   "source": [
    "#### Derived fields\n",
    "\n",
    "You can define new derived fields by simply defining a python function with a signature that takes an object named `field` and `data`."
   ]
  },
  {
   "cell_type": "code",
   "execution_count": null,
   "metadata": {},
   "outputs": [],
   "source": [
    "from yt import derived_field\n",
    "\n",
    "\n",
    "@derived_field(name=(\"gas\", \"density_cubed\"), sampling_type='cell', \n",
    "               units='(g/cm**3)**3')\n",
    "def density_cubed(field, data):\n",
    "    return data['gas', 'density']**3"
   ]
  },
  {
   "cell_type": "code",
   "execution_count": null,
   "metadata": {},
   "outputs": [],
   "source": [
    "ds = yt.load('IsolatedGalaxy/galaxy0030/galaxy0030')\n",
    "\n",
    "ad = ds.all_data()\n",
    "\n",
    "ad['gas', 'density_cubed']"
   ]
  },
  {
   "cell_type": "markdown",
   "metadata": {},
   "source": [
    "By default yt forces you to specify the units of data returned by a field definition in the call to `yt.derived_field`. This both checks that the function returns data with the correct dimensions and also allows you to control the output units. For example, I could have made the units `(msun/kpc**3)**3` instead of `(g/cm**3)**3`.\n",
    "\n",
    "The `yt.derived_field` function will globally add a field to *all* datasets loaded after that function call. If you only want to add a field to a single dataset, you can use the `ds.add_field` function:"
   ]
  },
  {
   "cell_type": "code",
   "execution_count": null,
   "metadata": {},
   "outputs": [],
   "source": [
    "def sqrt_density(field, data):\n",
    "    return data['gas', 'density']**0.5\n",
    "\n",
    "ds.add_field(function=sqrt_density, \n",
    "             name=(\"gas\", \"sqrt_density\"), \n",
    "             sampling_type='cell', \n",
    "             units='(g/cm**3)**0.5')\n",
    "\n",
    "ad = ds.all_data()\n",
    "\n",
    "ad['gas', 'sqrt_density']"
   ]
  },
  {
   "cell_type": "markdown",
   "metadata": {},
   "source": [
    "The field definitions I've shown you so far are relatively simple. Sometimes more complex functions can present difficulty, especially if there is a bug.\n",
    "\n",
    "To ease debugging of user-defined dervied fields yt provides a way to inspect the state of a field definition in the python debugger:"
   ]
  },
  {
   "cell_type": "code",
   "execution_count": null,
   "metadata": {
    "scrolled": true
   },
   "outputs": [],
   "source": [
    "def my_complicated_field(field, data):\n",
    "    dens = data['gas', 'density']\n",
    "    data._debug()\n",
    "    return data['ones']\n",
    "\n",
    "ds = yt.load('IsolatedGalaxy/galaxy0030/galaxy0030')\n",
    "    \n",
    "ds.add_field(function=my_complicated_field, name=(\"gas\", \"complicated\"), sampling_type='cell')\n",
    "\n",
    "ad = ds.all_data()\n",
    "\n",
    "ad['gas', 'complicated']"
   ]
  },
  {
   "cell_type": "markdown",
   "metadata": {},
   "source": [
    "Note that the above fields have `sampling_type='cell'`. That means the field is defined on Enzo's AMR mesh. If you would like to define a field that uses particle data, set `sampling_type='particle'`:"
   ]
  },
  {
   "cell_type": "code",
   "execution_count": null,
   "metadata": {},
   "outputs": [],
   "source": [
    "def particle_twos(field, data):\n",
    "    return 2*data['io', 'particle_ones']\n",
    "\n",
    "ds = yt.load('IsolatedGalaxy/galaxy0030/galaxy0030')\n",
    "    \n",
    "ds.add_field(function=particle_twos, name=(\"io\", \"particle_twos\"), \n",
    "             sampling_type='particle')\n",
    "\n",
    "ad = ds.all_data()\n",
    "\n",
    "ad['io', 'particle_twos']"
   ]
  },
  {
   "cell_type": "code",
   "execution_count": null,
   "metadata": {},
   "outputs": [],
   "source": [
    "print(ad['io', 'particle_twos'].shape)\n",
    "\n",
    "print(ds.particle_type_counts)"
   ]
  },
  {
   "cell_type": "markdown",
   "metadata": {},
   "source": [
    "There is more information about derived fields in the yt documentaion: http://yt-project.org/doc/developing/creating_derived_fields.html"
   ]
  },
  {
   "cell_type": "markdown",
   "metadata": {},
   "source": [
    "#### Particle filters\n",
    "\n",
    "Particularly for Enzo data, it is often very convenient to define new types of particles in terms of the on-disk \"io\" particle type. yt enables this via the particle filters machinery. Let's define a particle type that corresponds to *just* star particles, allowing us to filter out the dark matter particles in a cosmology simulation:"
   ]
  },
  {
   "cell_type": "code",
   "execution_count": null,
   "metadata": {},
   "outputs": [],
   "source": [
    "@yt.particle_filter(requires=[\"particle_type\"], filtered_type='all')\n",
    "def stars(pfilter, data):\n",
    "    filter = data[(pfilter.filtered_type, \"particle_type\")] == 2\n",
    "    return filter"
   ]
  },
  {
   "cell_type": "code",
   "execution_count": null,
   "metadata": {},
   "outputs": [],
   "source": [
    "ds = yt.load('IsolatedGalaxy/galaxy0030/galaxy0030')\n",
    "\n",
    "ds.add_particle_filter('stars')"
   ]
  },
  {
   "cell_type": "code",
   "execution_count": null,
   "metadata": {},
   "outputs": [],
   "source": [
    "ad = ds.all_data()\n",
    "\n",
    "ad['stars', 'particle_mass']"
   ]
  },
  {
   "cell_type": "code",
   "execution_count": null,
   "metadata": {},
   "outputs": [],
   "source": [
    "ad['stars', 'particle_mass'].shape"
   ]
  },
  {
   "cell_type": "code",
   "execution_count": null,
   "metadata": {},
   "outputs": [],
   "source": [
    "ad['io', 'particle_mass'].shape"
   ]
  },
  {
   "cell_type": "code",
   "execution_count": null,
   "metadata": {},
   "outputs": [],
   "source": [
    "yt.ParticlePlot(ds, ('stars', 'particle_position_x'), ('stars', 'particle_position_y'), \n",
    "                ('stars', 'particle_mass'), width=(20, 'kpc'))"
   ]
  },
  {
   "cell_type": "markdown",
   "metadata": {},
   "source": [
    "There is more detail about particle filters in the yt documentation: http://yt-project.org/doc/analyzing/filtering.html#filtering-particle-fields"
   ]
  },
  {
   "cell_type": "markdown",
   "metadata": {},
   "source": [
    "#### Pixelizing slices and projections onto images\n",
    "\n",
    "The `SlicePlot` and `ProjectionPlot` commands use 2D yt data objects under the hood, `ds.slice` (for axis-aligned slice), `ds.cutting` (for off-axis slices) and `ds.proj` (for projections). These two objects are special in that yt knows how to convert the flattened array of data returned by the data object to a 2D pixelized image. This is mediated by the `FixedResolutionBuffer` object.\n",
    "\n",
    "To see what I mean, let's create a slice and then from that slice generate a `FixedResolutionBuffer` object we can use to generate images of fields:"
   ]
  },
  {
   "cell_type": "code",
   "execution_count": null,
   "metadata": {},
   "outputs": [],
   "source": [
    "slc = ds.slice('z', coord=0.5)\n",
    "\n",
    "slc['gas', 'density']"
   ]
  },
  {
   "cell_type": "code",
   "execution_count": null,
   "metadata": {},
   "outputs": [],
   "source": [
    "frb = slc.to_frb(width=(20, 'kpc'), resolution=512)"
   ]
  },
  {
   "cell_type": "code",
   "execution_count": null,
   "metadata": {},
   "outputs": [],
   "source": [
    "frb['gas', 'density']"
   ]
  },
  {
   "cell_type": "code",
   "execution_count": null,
   "metadata": {},
   "outputs": [],
   "source": [
    "%matplotlib inline\n",
    "\n",
    "from matplotlib import pyplot as plt\n",
    "\n",
    "plt.imshow(frb['gas', 'density'].v)"
   ]
  },
  {
   "cell_type": "code",
   "execution_count": null,
   "metadata": {},
   "outputs": [],
   "source": [
    "plt.imshow(np.log10(frb['gas', 'density']))"
   ]
  },
  {
   "cell_type": "markdown",
   "metadata": {},
   "source": [
    "For projections especially, creating the initial data object can be very expensive, however generating an FRB and subsequent images is very cheap. It can often be convenient to first create a projection data object and then create a number of `FixedResolutionBuffer` objects to generate images of various views onto the projection. In fact, this is how `ProjectionPlot` is implemented under the hood."
   ]
  },
  {
   "cell_type": "markdown",
   "metadata": {},
   "source": [
    "#### 1D and 2D binned profiles and histograms"
   ]
  },
  {
   "cell_type": "markdown",
   "metadata": {},
   "source": [
    "Analogously to the FRB object, phase plots and profile plots have an underlying object that returns the raw histogram data as numpy arrays for creating visualizations and doing analysis outside of yt. The most straightforward way to create these objects is via the `yt.create_profile` function:"
   ]
  },
  {
   "cell_type": "code",
   "execution_count": null,
   "metadata": {},
   "outputs": [],
   "source": [
    "prof = yt.create_profile(ds.all_data(), bin_fields=['density', 'temperature'], \n",
    "                         fields=['cell_mass'], n_bins=1024)"
   ]
  },
  {
   "cell_type": "code",
   "execution_count": null,
   "metadata": {},
   "outputs": [],
   "source": [
    "# bin centers\n",
    "prof.x"
   ]
  },
  {
   "cell_type": "code",
   "execution_count": null,
   "metadata": {},
   "outputs": [],
   "source": [
    "# bin edges\n",
    "prof.x_bins"
   ]
  },
  {
   "cell_type": "code",
   "execution_count": null,
   "metadata": {},
   "outputs": [],
   "source": [
    "prof.y"
   ]
  },
  {
   "cell_type": "code",
   "execution_count": null,
   "metadata": {},
   "outputs": [],
   "source": [
    "prof['cell_mass']"
   ]
  },
  {
   "cell_type": "code",
   "execution_count": null,
   "metadata": {},
   "outputs": [],
   "source": [
    "data = prof['cell_mass']"
   ]
  },
  {
   "cell_type": "code",
   "execution_count": null,
   "metadata": {},
   "outputs": [],
   "source": [
    "data.write_hdf5('profile_data.h5')"
   ]
  },
  {
   "cell_type": "code",
   "execution_count": null,
   "metadata": {},
   "outputs": [],
   "source": [
    "prof.save_as_dataset?"
   ]
  },
  {
   "cell_type": "code",
   "execution_count": null,
   "metadata": {},
   "outputs": [],
   "source": [
    "plt.pcolormesh(prof.x, prof.y, np.log10(prof['cell_mass'].T))\n",
    "\n",
    "ax = plt.gca()\n",
    "\n",
    "ax.set_xscale('log')\n",
    "\n",
    "ax.set_yscale('log')"
   ]
  },
  {
   "cell_type": "markdown",
   "metadata": {},
   "source": [
    "### How to ask for help"
   ]
  },
  {
   "cell_type": "markdown",
   "metadata": {},
   "source": [
    "http://yt-project.org/doc/help/index.html"
   ]
  }
 ],
 "metadata": {
  "kernelspec": {
   "display_name": "Python 3 (ipykernel)",
   "language": "python",
   "name": "python3"
  },
  "language_info": {
   "codemirror_mode": {
    "name": "ipython",
    "version": 3
   },
   "file_extension": ".py",
   "mimetype": "text/x-python",
   "name": "python",
   "nbconvert_exporter": "python",
   "pygments_lexer": "ipython3",
   "version": "3.7.3"
  }
 },
 "nbformat": 4,
 "nbformat_minor": 2
}
